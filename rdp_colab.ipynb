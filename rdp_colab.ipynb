{
  "nbformat": 4,
  "nbformat_minor": 0,
  "metadata": {
    "colab": {
      "name": "rdp colab",
      "provenance": [],
      "collapsed_sections": [],
      "toc_visible": true,
      "include_colab_link": true
    },
    "kernelspec": {
      "name": "python3",
      "display_name": "Python 3"
    }
  },
  "cells": [
    {
      "cell_type": "markdown",
      "metadata": {
        "id": "view-in-github",
        "colab_type": "text"
      },
      "source": [
        "<a href=\"https://colab.research.google.com/github/IniGisah/remocolab/blob/master/rdp_colab.ipynb\" target=\"_parent\"><img src=\"https://colab.research.google.com/assets/colab-badge.svg\" alt=\"Open In Colab\"/></a>"
      ]
    },
    {
      "cell_type": "markdown",
      "metadata": {
        "id": "P7iHbp87RGHX"
      },
      "source": [
        "# SSH Access to Google Colab Server\n",
        "+torrenting, and downloading services"
      ]
    },
    {
      "cell_type": "code",
      "metadata": {
        "id": "3D6quRbiZ0Uz"
      },
      "source": [
        "!pip install git+https://github.com/IniGisah/remocolab.git\n",
        "import remocolab\n",
        "remocolab.setupSSHD(ngrok_region = \"ap\")"
      ],
      "execution_count": null,
      "outputs": []
    },
    {
      "cell_type": "markdown",
      "metadata": {
        "id": "TrUeoqqzwD3K"
      },
      "source": [
        "# Mount Google Drive\n",
        "This is a folder destination of your downloads\n",
        "\n",
        "note: all downloads saved to Torrent Download folder"
      ]
    },
    {
      "cell_type": "code",
      "metadata": {
        "id": "plDogDxwfK13"
      },
      "source": [
        "from google.colab import drive\n",
        "drive.mount('/content/drive')\n",
        " \n",
        "!mkdir /content/drive/My\\ Drive/Torrent\\ Download\n",
        "!chmod ugo+rw /content/drive/My\\ Drive/Torrent\\ Download"
      ],
      "execution_count": null,
      "outputs": []
    },
    {
      "cell_type": "markdown",
      "metadata": {
        "id": "NnjlIBukx9Cj"
      },
      "source": [
        "# Select One below\n",
        "note: Using Deluge has a good speed"
      ]
    },
    {
      "cell_type": "markdown",
      "metadata": {
        "id": "x_mZYkTsgw53"
      },
      "source": [
        "# Peerflix Server\n",
        "Github : [link](https://github.com/asapach/peerflix-server)\n",
        "\n",
        "**Hanya untuk keperluan Streaming saja, tidak bisa disimpan**\n",
        "\n",
        "port 9001\n",
        "\n",
        "\n",
        "1.   Masukkin command yang dikasih ke CMD kalau Windows, atau terminal kalau Linux\n",
        "2.   Kalau diminta password, masukkin colab password di bawah, copas aja\n",
        "3.   Lalu buka browser terus buka `localhost:9001`\n",
        "\n",
        ">*English*\n",
        "\n",
        "**For streaming purposes only, cannot be saved**\n",
        "\n",
        "port 9001\n",
        "\n",
        "\n",
        "1. Enter the command given to CMD for Windows, or the terminal for Linux\n",
        "2. If asked for a password, enter the password below, copy and paste it\n",
        "3. Then open a browser and continue to open` localhost:9001`"
      ]
    },
    {
      "cell_type": "code",
      "metadata": {
        "id": "iRO7IsY22X6P"
      },
      "source": [
        "from IPython.display import clear_output\n",
        "!sudo apt-get install nodejs-dev node-gyp libssl1.0-dev\n",
        "clear_output()\n",
        "!sudo apt-get install npm\n",
        "clear_output()\n",
        "!npm install -g peerflix-server\n",
        "!npm install -g forever\n",
        "clear_output()\n",
        "!forever start $(which peerflix-server)\n",
        "print(\"\\n\")\n",
        "remocolab.ngrokpeerflix()"
      ],
      "execution_count": null,
      "outputs": []
    },
    {
      "cell_type": "markdown",
      "metadata": {
        "id": "iHoyDES9vvkH"
      },
      "source": [
        "# Transmission\n",
        "\n",
        "[homepage](https://transmissionbt.com/)\n",
        "\n",
        ">Transmission torrent client Webui\n",
        "\n",
        "*port 9091*\n",
        "\n",
        "1.   Masukkin command yang dikasih ke CMD kalau Windows, atau terminal kalau Linux\n",
        "2.   Kalau diminta password, masukkin colab password dibawah\n",
        "3.   Lalu buka browser dan buka `localhost:9091`\n",
        "\n",
        "\n",
        "\n",
        ">English\n",
        "\n",
        "1. Enter the command given to CMD for Windows, or the terminal for Linux\n",
        "2. If asked for a password, enter the password below\n",
        "3. Then open a browser and open `localhost:9091`"
      ]
    },
    {
      "cell_type": "code",
      "metadata": {
        "id": "zYOB7ZrUvvPN"
      },
      "source": [
        "from IPython.display import clear_output\n",
        "!sudo apt install transmission transmission-cli transmission-daemon\n",
        "clear_output()\n",
        "!transmission-daemon --download-dir \"/content/drive/My Drive/Torrent Download\"\n",
        "!transmission-daemon --peerport \"54345\"\n",
        " \n",
        "!transmission-daemon\n",
        "!transmission-remote -si\n",
        "print(\"\\n\")\n",
        "remocolab.ngroktransmission()"
      ],
      "execution_count": null,
      "outputs": []
    },
    {
      "cell_type": "markdown",
      "metadata": {
        "id": "1q8gFrHNgzgh"
      },
      "source": [
        "# Deluge Web Ui\n",
        "\n",
        "[homepage](https://deluge-torrent.org/)\n",
        "\n",
        ">Torrent client Deluge web ui\n",
        "\n",
        "*port 8112*\n",
        "\n",
        "1. Masukkin command yang dikasih ke CMD kalau Windows, atau terminal kalau Linux\n",
        "2.  Kalau diminta password, masukkin colab password dibawah\n",
        "3. Lalu buka browser dan buka `localhost:8112`\n",
        "4. Jika diminta password, masukkan password : `deluge`\n",
        "5. Lalu pilih yang online, dan klik connect\n",
        "\n",
        ">English\n",
        "\n",
        "1. Enter the command given to CMD for Windows, or the terminal for Linux\n",
        "2. If asked for a password, enter the password below\n",
        "3. Then open a browser and open `localhost:8112`\n",
        "4. If prompted for a password, enter the password: `deluge`\n",
        "5. Then select online from the list, and click connect"
      ]
    },
    {
      "cell_type": "code",
      "metadata": {
        "id": "jb6doNaggwdg",
        "cellView": "form"
      },
      "source": [
        "#@title <---- Setup Deluge Web UI\n",
        "from IPython.display import clear_output\n",
        "!sudo apt-get install deluged deluge-console deluge-webui\n",
        "!wget https://github.com/ratanakvlun/deluge-ltconfig/releases/download/v2.0.0/ltConfig-2.0.0.egg\n",
        "get_ipython().system_raw(\"deluged\")\n",
        "#!killall deluged\n",
        "\n",
        "#File config deluge\n",
        "isiconfig = \"\"\"{\n",
        "  \"file\": 1,\n",
        "  \"format\": 1\n",
        "}{\n",
        "  \"apply_on_start\": true,\n",
        "  \"settings\": {\n",
        "    \"connection_speed\": 500,\n",
        "    \"active_seeds\": 2000,\n",
        "    \"max_failcount\": 1,\n",
        "    \"dht_upload_rate_limit\": 20000,\n",
        "    \"allowed_fast_set_size\": 0,\n",
        "    \"unchoke_slots_limit\": 2000,\n",
        "    \"max_rejects\": 10,\n",
        "    \"allow_multiple_connections_per_ip\": true,\n",
        "    \"recv_socket_buffer_size\": 1048576,\n",
        "    \"active_limit\": 2000,\n",
        "    \"file_pool_size\": 500,\n",
        "    \"cache_expiry\": 30,\n",
        "    \"max_out_request_queue\": 1500,\n",
        "    \"send_buffer_watermark\": 3145728,\n",
        "    \"send_buffer_watermark_factor\": 150,\n",
        "    \"active_tracker_limit\": 2000,\n",
        "    \"request_timeout\": 10,\n",
        "    \"send_buffer_low_watermark\": 1048576,\n",
        "    \"mixed_mode_algorithm\": 0,\n",
        "    \"max_queued_disk_bytes\": 7340032,\n",
        "    \"cache_buffer_chunk_size\": 128,\n",
        "    \"connections_limit\": 8000,\n",
        "    \"aio_threads\": 8,\n",
        "    \"write_cache_line_size\": 256,\n",
        "    \"checking_mem_usage\": 320,\n",
        "    \"listen_queue_size\": 3000,\n",
        "    \"max_allowed_in_request_queue\": 2000,\n",
        "    \"suggest_mode\": 1,\n",
        "    \"active_dht_limit\": 600,\n",
        "    \"peer_timeout\": 20,\n",
        "    \"inactivity_timeout\": 20,\n",
        "    \"low_prio_disk\": false,\n",
        "    \"max_http_recv_buffer_size\": 6291456,\n",
        "    \"cache_size\": 65536,\n",
        "    \"send_socket_buffer_size\": 1048576,\n",
        "    \"use_disk_cache_pool\": true\n",
        "  }\n",
        "}\n",
        "\"\"\"\n",
        "with open('ltconfig.conf','w') as fconf:\n",
        "  fconf.write(isiconfig)\n",
        "\n",
        "#Bikin user buat Deluge\n",
        "clear_output()\n",
        "import pickle\n",
        "filename2 = 'user.pk'\n",
        "filename5 = 'userpass.pk'\n",
        "with open(filename2, 'rb') as fi:\n",
        "    user_name = pickle.load(fi)\n",
        "with open(filename5, 'rb') as fi:\n",
        "    user_password = pickle.load(fi)\n",
        "\n",
        "!echo \"{user_name}:{user_password}:10\" >> ~/.config/deluge/auth\n",
        "\n",
        "#Setting config deluge\n",
        "!deluge-console \"config -s allow_remote True\"\n",
        "!deluge-console \"config -s download_location /content/drive/My\\ Drive/Torrent\\ Download\"\n",
        "!deluge-console \"config -s max_active_limit 40\"\n",
        "!deluge-console \"config -s max_active_downloading 40\"\n",
        "!deluge-console \"config -s max_active_seeding 40\"\n",
        "!deluge-console \"config -s max_connections_global -1\"\n",
        "\n",
        "#Mulai Running\n",
        "#clear_output()\n",
        "!cp ltConfig-2.0.0.egg /root/.config/deluge/plugins\n",
        "!cp ltconfig.conf /root/.config/deluge/\n",
        "!killall deluged\n",
        "get_ipython().system_raw(\"deluged\")\n",
        "!deluge-console \"plugin --enable ltConfig\"\n",
        "get_ipython().system_raw(\"deluge-web --fork\")\n",
        "!killall deluged\n",
        "get_ipython().system_raw(\"deluged\")\n",
        "print(\"\\n\")\n",
        "remocolab.ngrokdeluge()"
      ],
      "execution_count": null,
      "outputs": []
    },
    {
      "cell_type": "markdown",
      "metadata": {
        "id": "KYhzaNTot98D"
      },
      "source": [
        "# ARIA2\n",
        "\n",
        "[homepage](https://aria2.github.io/)\n",
        "\n",
        ">Web link downloader to google drive + torrent client\n",
        "\n",
        "1. Masukkin command yang dikasih ke CMD kalau Windows, atau terminal kalau Linux\n",
        "2. Kalau diminta password, masukkin colab password dibawah\n",
        "3. buka di web browser anda `localhost:5577/webaria2`\n",
        "4. Atau install extensi ini di browser chrome anda\n",
        "\n",
        "https://chrome.google.com/webstore/detail/aria2-for-chrome/mpkodccbngfoacfalldjimigbofkhgjn/related?hl=en\n",
        "\n",
        ">English\n",
        "\n",
        "1. Enter the command given to CMD for Windows, or the terminal for Linux\n",
        "2. If asked for a password, enter the password below\n",
        "3. open in your web browser `localhost:5577/webaria2`\n",
        "4. Or install this extension in your chrome browser"
      ]
    },
    {
      "cell_type": "code",
      "metadata": {
        "id": "opYdGyWUuGWN"
      },
      "source": [
        "from IPython.display import clear_output\n",
        "!apt install aria2 apache2\n",
        "clear_output()\n",
        "!git clone https://github.com/ziahamza/webui-aria2\n",
        "!cp -r /content/webui-aria2/docs /var/www/html\n",
        "!mv /var/www/html/docs /var/www/html/webaria2\n",
        "clear_output()\n",
        "!wget https://raw.githubusercontent.com/IniGisah/remocolab/master/aria2.conf\n",
        "!/etc/init.d/apache2 start\n",
        "!aria2c --enable-rpc --rpc-listen-all --daemon --conf-path=\"/content/aria2.conf\"\n",
        "print(\"\\n\")\n",
        "remocolab.ngrokaria()"
      ],
      "execution_count": null,
      "outputs": []
    },
    {
      "cell_type": "markdown",
      "metadata": {
        "id": "s-kG-tvAVHYS"
      },
      "source": [
        "# Last Step\n",
        "kalau udah selesai semua donlotan, run ini\n",
        "\n",
        "Command ini bakal ngerefresh donlotan ke Google Drive anda\n",
        "\n",
        "Tunggu sampai selesai\n",
        "\n",
        ">English\n",
        "\n",
        "when you've finished all downloads, run this code\n",
        "\n",
        "This command will refresh the download to your Google Drive\n",
        "\n",
        "Wait for it to finish"
      ]
    },
    {
      "cell_type": "code",
      "metadata": {
        "id": "pvwPmRmkVKMX"
      },
      "source": [
        "!killall transmission-daemon\n",
        "!killall deluged\n",
        "drive.flush_and_unmount()"
      ],
      "execution_count": null,
      "outputs": []
    },
    {
      "cell_type": "markdown",
      "metadata": {
        "id": "7A3LjJwN9AoB"
      },
      "source": [
        "# do not touch\n",
        "\n",
        "debugging side\n"
      ]
    },
    {
      "cell_type": "code",
      "metadata": {
        "id": "3UGxFLrh25LU"
      },
      "source": [
        "! sleep 43200"
      ],
      "execution_count": null,
      "outputs": []
    },
    {
      "cell_type": "code",
      "metadata": {
        "id": "wiFdol0UNzGX"
      },
      "source": [
        "!cp ltconfig.conf /root/.config/deluge/"
      ],
      "execution_count": null,
      "outputs": []
    }
  ]
}